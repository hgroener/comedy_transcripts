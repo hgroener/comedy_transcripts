{
 "cells": [
  {
   "cell_type": "code",
   "execution_count": 33,
   "metadata": {},
   "outputs": [],
   "source": [
    "import requests\n",
    "import re\n",
    "import random as rd\n",
    "from bs4 import BeautifulSoup\n",
    "import html\n",
    "import xml.etree.ElementTree as ET"
   ]
  },
  {
   "cell_type": "code",
   "execution_count": 68,
   "metadata": {},
   "outputs": [],
   "source": [
    "def decode_html_ents(text):\n",
    "    ents = re.findall(\"&amp;#\\d+;\", text)\n",
    "    subbed = text\n",
    "    for ent in ents:\n",
    "        subbed = re.sub(ent, html.unescape(html.unescape(ent)), subbed)\n",
    "    return(subbed)"
   ]
  },
  {
   "cell_type": "code",
   "execution_count": 70,
   "metadata": {},
   "outputs": [],
   "source": [
    "def get_wellformed_text(link):\n",
    "    text = requests.get(link).text \n",
    "    text = re.sub(\"var [a-zA-Z]+ = {.*};\", \"\", text)\n",
    "    text = str(BeautifulSoup(text, \"html\"))\n",
    "    #text = html.unescape(text)\n",
    "    text = re.sub(\"&(?!amp;)\", \"&amp;\", text)\n",
    "    text = decode_html_ents(text)\n",
    "    return text \n",
    "\n",
    "#get_wellformed_text(\"https://scrapsfromtheloft.com/comedy/louis-c-k-sorry-transcript/\")"
   ]
  },
  {
   "cell_type": "code",
   "execution_count": 71,
   "metadata": {},
   "outputs": [],
   "source": [
    "url = 'https://scrapsfromtheloft.com/stand-up-comedy-scripts/'"
   ]
  },
  {
   "cell_type": "code",
   "execution_count": 72,
   "metadata": {},
   "outputs": [],
   "source": [
    "if __name__==\"__main__\":\n",
    "    r = requests.get(url)\n",
    "    links = re.findall(\"(?<=<a href=\\\")https://.*(?=\\\" >)\", r.text)\n",
    "    rd.shuffle(links)\n",
    "\n",
    "    links_w_htmls = {link: get_wellformed_text(link) for link in links[:10]}\n",
    "\n",
    "    for link in links_w_htmls: \n",
    "        name = \"utf8_htmls/\" + link.split(\"/\")[-2] + \".html\"\n",
    "        with open(name, 'w', encoding=\"utf-8\") as f:\n",
    "            f.write(links_w_htmls[link])"
   ]
  },
  {
   "cell_type": "code",
   "execution_count": null,
   "metadata": {},
   "outputs": [],
   "source": []
  }
 ],
 "metadata": {
  "kernelspec": {
   "display_name": "Python 3",
   "language": "python",
   "name": "python3"
  },
  "language_info": {
   "codemirror_mode": {
    "name": "ipython",
    "version": 3
   },
   "file_extension": ".py",
   "mimetype": "text/x-python",
   "name": "python",
   "nbconvert_exporter": "python",
   "pygments_lexer": "ipython3",
   "version": "3.8.13"
  }
 },
 "nbformat": 4,
 "nbformat_minor": 4
}
